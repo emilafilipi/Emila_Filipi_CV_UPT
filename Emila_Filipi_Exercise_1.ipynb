{
  "nbformat": 4,
  "nbformat_minor": 0,
  "metadata": {
    "colab": {
      "provenance": []
    },
    "kernelspec": {
      "name": "python3",
      "display_name": "Python 3"
    },
    "language_info": {
      "name": "python"
    }
  },
  "cells": [
    {
      "cell_type": "code",
      "execution_count": 3,
      "metadata": {
        "id": "jWfbCpTJib8D"
      },
      "outputs": [],
      "source": [
        "from google.colab import drive"
      ]
    },
    {
      "cell_type": "code",
      "source": [
        "drive.mount('/content/drive')"
      ],
      "metadata": {
        "id": "ZCtIWcXboaug",
        "outputId": "84ce318a-fd32-42b2-9183-3c535931f01a",
        "colab": {
          "base_uri": "https://localhost:8080/"
        }
      },
      "execution_count": 4,
      "outputs": [
        {
          "output_type": "stream",
          "name": "stdout",
          "text": [
            "Mounted at /content/drive\n"
          ]
        }
      ]
    },
    {
      "cell_type": "code",
      "source": [
        "import skimage as sk # load skimage libraries\n",
        "from skimage.io import imread"
      ],
      "metadata": {
        "id": "BQ5pKjSVoeKY"
      },
      "execution_count": 5,
      "outputs": []
    }
  ]
}