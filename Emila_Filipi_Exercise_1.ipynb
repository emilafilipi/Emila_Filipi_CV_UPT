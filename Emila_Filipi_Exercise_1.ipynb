{
  "nbformat": 4,
  "nbformat_minor": 0,
  "metadata": {
    "colab": {
      "provenance": []
    },
    "kernelspec": {
      "name": "python3",
      "display_name": "Python 3"
    },
    "language_info": {
      "name": "python"
    }
  },
  "cells": [
    {
      "cell_type": "code",
      "execution_count": 1,
      "metadata": {
        "id": "jWfbCpTJib8D"
      },
      "outputs": [],
      "source": [
        "import skimage as sk # load skimage libraries\n",
        "from skimage.io import imread"
      ]
    }
  ]
}