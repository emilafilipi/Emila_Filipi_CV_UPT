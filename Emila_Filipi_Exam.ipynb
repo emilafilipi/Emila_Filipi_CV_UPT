{
  "nbformat": 4,
  "nbformat_minor": 0,
  "metadata": {
    "colab": {
      "provenance": [],
      "authorship_tag": "ABX9TyP83QzTpLp6xglJVzRo7ftO"
    },
    "kernelspec": {
      "name": "python3",
      "display_name": "Python 3"
    },
    "language_info": {
      "name": "python"
    }
  },
  "cells": [
    {
      "cell_type": "code",
      "execution_count": 1,
      "metadata": {
        "id": "aGVbX6Cq0ogn"
      },
      "outputs": [],
      "source": [
        "import skimage as sk\n",
        "from skimage.io import imread\n",
        "import numpy as np"
      ]
    }
  ]
}